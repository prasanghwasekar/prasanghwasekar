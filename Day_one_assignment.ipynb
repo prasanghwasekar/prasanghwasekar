{
  "nbformat": 4,
  "nbformat_minor": 0,
  "metadata": {
    "colab": {
      "name": "Day one assignment.ipynb",
      "provenance": [],
      "collapsed_sections": []
    },
    "kernelspec": {
      "name": "python3",
      "display_name": "Python 3"
    },
    "language_info": {
      "name": "python"
    }
  },
  "cells": [
    {
      "cell_type": "code",
      "metadata": {
        "colab": {
          "base_uri": "https://localhost:8080/"
        },
        "id": "k3TkomKJSlEA",
        "outputId": "db09736c-71ce-493e-a1ff-aebeb9a17391"
      },
      "source": [
        "#day one assignment\n",
        "\n",
        "a=int(input('enter base value'))\n",
        "b=int(input('enter power value'))\n",
        "result=(a**b)\n",
        "print(result)"
      ],
      "execution_count": 3,
      "outputs": [
        {
          "output_type": "stream",
          "text": [
            "enter base value2\n",
            "enter power value3\n",
            "8\n"
          ],
          "name": "stdout"
        }
      ]
    }
  ]
}